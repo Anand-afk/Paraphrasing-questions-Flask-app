{
 "cells": [
  {
   "cell_type": "code",
   "execution_count": 8,
   "metadata": {},
   "outputs": [
    {
     "name": "stderr",
     "output_type": "stream",
     "text": [
      "ERROR: Could not find a version that satisfies the requirement torch==1.4.0 (from versions: 0.1.2, 0.1.2.post1, 0.1.2.post2)\n",
      "ERROR: No matching distribution found for torch==1.4.0\n"
     ]
    },
    {
     "name": "stdout",
     "output_type": "stream",
     "text": [
      "Requirement already satisfied: transformers==2.9.0 in c:\\users\\arane\\anaconda3\\lib\\site-packages (2.9.0)\n",
      "Requirement already satisfied: regex!=2019.12.17 in c:\\users\\arane\\anaconda3\\lib\\site-packages (from transformers==2.9.0) (2020.6.8)\n",
      "Requirement already satisfied: numpy in c:\\users\\arane\\anaconda3\\lib\\site-packages (from transformers==2.9.0) (1.18.5)\n",
      "Requirement already satisfied: tokenizers==0.7.0 in c:\\users\\arane\\anaconda3\\lib\\site-packages (from transformers==2.9.0) (0.7.0)\n",
      "Requirement already satisfied: tqdm>=4.27 in c:\\users\\arane\\anaconda3\\lib\\site-packages (from transformers==2.9.0) (4.47.0)\n",
      "Requirement already satisfied: filelock in c:\\users\\arane\\anaconda3\\lib\\site-packages (from transformers==2.9.0) (3.0.12)\n",
      "Requirement already satisfied: sentencepiece in c:\\users\\arane\\anaconda3\\lib\\site-packages (from transformers==2.9.0) (0.1.91)\n",
      "Requirement already satisfied: sacremoses in c:\\users\\arane\\anaconda3\\lib\\site-packages (from transformers==2.9.0) (0.0.43)\n",
      "Requirement already satisfied: requests in c:\\users\\arane\\anaconda3\\lib\\site-packages (from transformers==2.9.0) (2.24.0)\n",
      "Requirement already satisfied: joblib in c:\\users\\arane\\anaconda3\\lib\\site-packages (from sacremoses->transformers==2.9.0) (0.16.0)\n",
      "Requirement already satisfied: six in c:\\users\\arane\\anaconda3\\lib\\site-packages (from sacremoses->transformers==2.9.0) (1.15.0)\n",
      "Requirement already satisfied: click in c:\\users\\arane\\anaconda3\\lib\\site-packages (from sacremoses->transformers==2.9.0) (7.1.2)\n",
      "Requirement already satisfied: idna<3,>=2.5 in c:\\users\\arane\\anaconda3\\lib\\site-packages (from requests->transformers==2.9.0) (2.10)\n",
      "Requirement already satisfied: certifi>=2017.4.17 in c:\\users\\arane\\anaconda3\\lib\\site-packages (from requests->transformers==2.9.0) (2020.6.20)\n",
      "Requirement already satisfied: chardet<4,>=3.0.2 in c:\\users\\arane\\anaconda3\\lib\\site-packages (from requests->transformers==2.9.0) (3.0.4)\n",
      "Requirement already satisfied: urllib3!=1.25.0,!=1.25.1,<1.26,>=1.21.1 in c:\\users\\arane\\anaconda3\\lib\\site-packages (from requests->transformers==2.9.0) (1.25.9)\n",
      "Requirement already satisfied: pytorch_lightning==0.7.5 in c:\\users\\arane\\anaconda3\\lib\\site-packages (0.7.5)\n",
      "Requirement already satisfied: numpy>=1.16.4 in c:\\users\\arane\\anaconda3\\lib\\site-packages (from pytorch_lightning==0.7.5) (1.18.5)\n",
      "Requirement already satisfied: future>=0.17.1 in c:\\users\\arane\\anaconda3\\lib\\site-packages (from pytorch_lightning==0.7.5) (0.18.2)\n",
      "Requirement already satisfied: tensorboard>=1.14 in c:\\users\\arane\\anaconda3\\lib\\site-packages (from pytorch_lightning==0.7.5) (2.3.0)\n",
      "Requirement already satisfied: torch>=1.1 in c:\\users\\arane\\anaconda3\\lib\\site-packages (from pytorch_lightning==0.7.5) (1.6.0)\n",
      "Requirement already satisfied: tqdm>=4.41.0 in c:\\users\\arane\\anaconda3\\lib\\site-packages (from pytorch_lightning==0.7.5) (4.47.0)\n",
      "Requirement already satisfied: requests<3,>=2.21.0 in c:\\users\\arane\\anaconda3\\lib\\site-packages (from tensorboard>=1.14->pytorch_lightning==0.7.5) (2.24.0)\n",
      "Requirement already satisfied: google-auth-oauthlib<0.5,>=0.4.1 in c:\\users\\arane\\anaconda3\\lib\\site-packages (from tensorboard>=1.14->pytorch_lightning==0.7.5) (0.4.1)\n",
      "Requirement already satisfied: setuptools>=41.0.0 in c:\\users\\arane\\anaconda3\\lib\\site-packages (from tensorboard>=1.14->pytorch_lightning==0.7.5) (49.2.0.post20200714)\n",
      "Requirement already satisfied: absl-py>=0.4 in c:\\users\\arane\\anaconda3\\lib\\site-packages (from tensorboard>=1.14->pytorch_lightning==0.7.5) (0.10.0)\n",
      "Requirement already satisfied: wheel>=0.26; python_version >= \"3\" in c:\\users\\arane\\anaconda3\\lib\\site-packages (from tensorboard>=1.14->pytorch_lightning==0.7.5) (0.34.2)\n",
      "Requirement already satisfied: protobuf>=3.6.0 in c:\\users\\arane\\anaconda3\\lib\\site-packages (from tensorboard>=1.14->pytorch_lightning==0.7.5) (3.13.0)\n",
      "Requirement already satisfied: six>=1.10.0 in c:\\users\\arane\\anaconda3\\lib\\site-packages (from tensorboard>=1.14->pytorch_lightning==0.7.5) (1.15.0)\n",
      "Requirement already satisfied: google-auth<2,>=1.6.3 in c:\\users\\arane\\anaconda3\\lib\\site-packages (from tensorboard>=1.14->pytorch_lightning==0.7.5) (1.20.1)\n",
      "Requirement already satisfied: grpcio>=1.24.3 in c:\\users\\arane\\anaconda3\\lib\\site-packages (from tensorboard>=1.14->pytorch_lightning==0.7.5) (1.31.0)\n",
      "Requirement already satisfied: tensorboard-plugin-wit>=1.6.0 in c:\\users\\arane\\anaconda3\\lib\\site-packages (from tensorboard>=1.14->pytorch_lightning==0.7.5) (1.7.0)\n",
      "Requirement already satisfied: markdown>=2.6.8 in c:\\users\\arane\\anaconda3\\lib\\site-packages (from tensorboard>=1.14->pytorch_lightning==0.7.5) (3.2.2)\n",
      "Requirement already satisfied: werkzeug>=0.11.15 in c:\\users\\arane\\anaconda3\\lib\\site-packages (from tensorboard>=1.14->pytorch_lightning==0.7.5) (1.0.1)\n",
      "Requirement already satisfied: certifi>=2017.4.17 in c:\\users\\arane\\anaconda3\\lib\\site-packages (from requests<3,>=2.21.0->tensorboard>=1.14->pytorch_lightning==0.7.5) (2020.6.20)\n",
      "Requirement already satisfied: chardet<4,>=3.0.2 in c:\\users\\arane\\anaconda3\\lib\\site-packages (from requests<3,>=2.21.0->tensorboard>=1.14->pytorch_lightning==0.7.5) (3.0.4)\n",
      "Requirement already satisfied: idna<3,>=2.5 in c:\\users\\arane\\anaconda3\\lib\\site-packages (from requests<3,>=2.21.0->tensorboard>=1.14->pytorch_lightning==0.7.5) (2.10)\n",
      "Requirement already satisfied: urllib3!=1.25.0,!=1.25.1,<1.26,>=1.21.1 in c:\\users\\arane\\anaconda3\\lib\\site-packages (from requests<3,>=2.21.0->tensorboard>=1.14->pytorch_lightning==0.7.5) (1.25.9)\n",
      "Requirement already satisfied: requests-oauthlib>=0.7.0 in c:\\users\\arane\\anaconda3\\lib\\site-packages (from google-auth-oauthlib<0.5,>=0.4.1->tensorboard>=1.14->pytorch_lightning==0.7.5) (1.3.0)\n",
      "Requirement already satisfied: rsa<5,>=3.1.4; python_version >= \"3.5\" in c:\\users\\arane\\anaconda3\\lib\\site-packages (from google-auth<2,>=1.6.3->tensorboard>=1.14->pytorch_lightning==0.7.5) (4.6)\n",
      "Requirement already satisfied: pyasn1-modules>=0.2.1 in c:\\users\\arane\\anaconda3\\lib\\site-packages (from google-auth<2,>=1.6.3->tensorboard>=1.14->pytorch_lightning==0.7.5) (0.2.8)\n",
      "Requirement already satisfied: cachetools<5.0,>=2.0.0 in c:\\users\\arane\\anaconda3\\lib\\site-packages (from google-auth<2,>=1.6.3->tensorboard>=1.14->pytorch_lightning==0.7.5) (4.1.1)\n",
      "Requirement already satisfied: oauthlib>=3.0.0 in c:\\users\\arane\\anaconda3\\lib\\site-packages (from requests-oauthlib>=0.7.0->google-auth-oauthlib<0.5,>=0.4.1->tensorboard>=1.14->pytorch_lightning==0.7.5) (3.1.0)\n",
      "Requirement already satisfied: pyasn1>=0.1.3 in c:\\users\\arane\\anaconda3\\lib\\site-packages (from rsa<5,>=3.1.4; python_version >= \"3.5\"->google-auth<2,>=1.6.3->tensorboard>=1.14->pytorch_lightning==0.7.5) (0.4.8)\n"
     ]
    }
   ],
   "source": [
    "!pip install torch==1.4.0\n",
    "!pip install transformers==2.9.0\n",
    "!pip install pytorch_lightning==0.7.5"
   ]
  },
  {
   "cell_type": "code",
   "execution_count": 1,
   "metadata": {},
   "outputs": [
    {
     "name": "stdout",
     "output_type": "stream",
     "text": [
      "device  cuda\n"
     ]
    }
   ],
   "source": [
    "import torch\n",
    "from transformers import T5ForConditionalGeneration,T5Tokenizer\n",
    "\n",
    "def set_seed(seed):\n",
    "  torch.manual_seed(seed)\n",
    "  if torch.cuda.is_available():\n",
    "    torch.cuda.manual_seed_all(seed)\n",
    "\n",
    "set_seed(42)\n",
    "\n",
    "model = T5ForConditionalGeneration.from_pretrained('ramsrigouthamg/t5_paraphraser')\n",
    "tokenizer = T5Tokenizer.from_pretrained('t5-base')\n",
    "\n",
    "device = torch.device(\"cuda\" if torch.cuda.is_available() else \"cpu\")\n",
    "print (\"device \",device)\n",
    "model = model.to(device)"
   ]
  },
  {
   "cell_type": "code",
   "execution_count": null,
   "metadata": {},
   "outputs": [],
   "source": []
  },
  {
   "cell_type": "code",
   "execution_count": 2,
   "metadata": {},
   "outputs": [],
   "source": [
    "import pandas as pd\n",
    "df=pd.read_csv(\"questions- alex.csv\")"
   ]
  },
  {
   "cell_type": "code",
   "execution_count": 3,
   "metadata": {},
   "outputs": [],
   "source": [
    "df['Questions '][3]=\"whats is your name? | where do you live ?\""
   ]
  },
  {
   "cell_type": "code",
   "execution_count": 46,
   "metadata": {},
   "outputs": [],
   "source": [
    "def generator(sentence):\n",
    "    text =  \"paraphrase: \" + sentence + \" </s>\"\n",
    "\n",
    "    encoding = tokenizer.encode_plus(text,pad_to_max_length=True, return_tensors=\"pt\")\n",
    "    input_ids, attention_masks = encoding[\"input_ids\"].to(device), encoding[\"attention_mask\"].to(device)\n",
    "\n",
    "    # set top_k = 50 and set top_p = 0.95 and num_return_sequences = 3\n",
    "    beam_outputs = model.generate(\n",
    "        input_ids=input_ids, attention_mask=attention_masks,\n",
    "        do_sample=True,\n",
    "        max_length=256,\n",
    "        top_k=120,\n",
    "        top_p=0.98,\n",
    "        early_stopping=True,\n",
    "        num_return_sequences=10\n",
    "    )\n",
    "\n",
    "    final_outputs =[]\n",
    "    for beam_output in beam_outputs:\n",
    "        sent = tokenizer.decode(beam_output, skip_special_tokens=True,clean_up_tokenization_spaces=True)\n",
    "        if sent.lower() != sentence.lower() and sent not in final_outputs:\n",
    "            final_outputs.append(sent)\n",
    "    \n",
    "    return final_outputs"
   ]
  },
  {
   "cell_type": "code",
   "execution_count": 47,
   "metadata": {},
   "outputs": [],
   "source": [
    "import re\n",
    "def findmatches(pattern, phrase):\n",
    "\n",
    "    for p in patterns:\n",
    "        match= re.findall(p, phrase)\n",
    "    return match[0]\n",
    "\n",
    "patterns= ['[^!.?]+']"
   ]
  },
  {
   "cell_type": "code",
   "execution_count": 53,
   "metadata": {
    "scrolled": true
   },
   "outputs": [],
   "source": [
    "import csv\n",
    "\n",
    "for i in df['Questions ']:\n",
    "    final_outputs=[]\n",
    "    if \"|\" in i:\n",
    "        x=i.split('|')\n",
    "        for j in x:\n",
    "            final_outputs.append(generator(j))\n",
    "    \n",
    "        final_outputs = [item for sublist in final_outputs for item in sublist]\n",
    "        output={}\n",
    "        for c, final_output in enumerate(final_outputs):\n",
    "            output[c]=final_output  \n",
    "        filename=findmatches(patterns, i)\n",
    "        with open(\"%s.csv\"%filename, 'w') as csv_file:  \n",
    "            writer = csv.writer(csv_file)\n",
    "            for key, value in output.items():\n",
    "                writer.writerow([key, value])\n",
    "    else:           \n",
    "        final_outputs=generator(i) \n",
    "       \n",
    "        output={}\n",
    "        for c, final_output in enumerate(final_outputs):\n",
    "            output[c]=final_output  \n",
    "        \n",
    "        filename=findmatches(patterns, i)\n",
    "        with open(\"%s.csv\"%filename, 'w') as csv_file:  \n",
    "            writer = csv.writer(csv_file)\n",
    "            for key, value in output.items():\n",
    "                writer.writerow([key, value])\n",
    "        "
   ]
  },
  {
   "cell_type": "code",
   "execution_count": null,
   "metadata": {},
   "outputs": [],
   "source": []
  }
 ],
 "metadata": {
  "kernelspec": {
   "display_name": "Python 3",
   "language": "python",
   "name": "python3"
  },
  "language_info": {
   "codemirror_mode": {
    "name": "ipython",
    "version": 3
   },
   "file_extension": ".py",
   "mimetype": "text/x-python",
   "name": "python",
   "nbconvert_exporter": "python",
   "pygments_lexer": "ipython3",
   "version": "3.8.3"
  }
 },
 "nbformat": 4,
 "nbformat_minor": 4
}
